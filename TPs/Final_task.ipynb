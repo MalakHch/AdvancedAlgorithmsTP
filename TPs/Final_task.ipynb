# تقرير حول الكود الذي تم تنفيذه

## ملخص الكود

الكود يقوم بتحليل الأداء (زمن التنفيذ واستهلاك الذاكرة) لثلاث خوارزميات لحساب أطول سلسلة مشتركة (Longest Common Subsequence - LCS):
1. `lcs`: الخوارزمية باستخدام الاستدعاء الذاتي بدون تخزين (Recursive).
2. `lcs_memo`: الخوارزمية باستخدام الاستدعاء الذاتي مع التخزين (Memoization).
3. `lcs_dp`: الخوارزمية باستخدام البرمجة الديناميكية (Dynamic Programming).

### خطوات التنفيذ:
1. **توليد سلاسل عشوائية**:
   - يتم إنشاء سلاسل عشوائية بطول محدد لكل تجربة باستخدام `random_string`.
   - يتم إجراء `nbr_experiments` تجربة لكل خوارزمية ولعدة أطوال مختلفة محددة في `lengths`.

2. **تحليل الأداء**:
   - يتم قياس زمن التنفيذ واستهلاك الذاكرة لكل خوارزمية باستخدام مكتبة `TimeAndSpaceProfiler`.
   - يتم تسجيل النتائج في ملف CSV (`lcs_benchmark_results.csv`).

3. **حساب المتوسطات**:
   - يتم حساب متوسط زمن التنفيذ واستهلاك الذاكرة لكل خوارزمية لكل طول سلسلة، ويتم حفظها في ملف آخر (`lcs_grouped_results.csv`).

---

## تحليل النتائج

```python
import pandas as pd
import matplotlib.pyplot as plt

# تحميل البيانات
results = pd.read_csv("lcs_benchmark_results.csv")
grouped_results = pd.read_csv("lcs_grouped_results.csv")

# عرض البيانات الخام
print("\nالنتائج الخام:\n")
print(results.head())

print("\nالمتوسطات لكل خوارزمية وحجم:\n")
print(grouped_results.head())

# تحليل الزمن
plt.figure(figsize=(10, 6))
for algorithm in grouped_results['algorithm'].unique():
    subset = grouped_results[grouped_results['algorithm'] == algorithm]
    plt.plot(subset['size'], subset['time'], marker='o', label=algorithm)

plt.title("تحليل زمن التنفيذ حسب الطول")
plt.xlabel("طول السلسلة")
plt.ylabel("متوسط الزمن (ثوانٍ)")
plt.legend()
plt.grid()
plt.show()

# تحليل الذاكرة
plt.figure(figsize=(10, 6))
for algorithm in grouped_results['algorithm'].unique():
    subset = grouped_results[grouped_results['algorithm'] == algorithm]
    plt.plot(subset['size'], subset['memory'], marker='o', label=algorithm)

plt.title("تحليل استهلاك الذاكرة حسب الطول")
plt.xlabel("طول السلسلة")
plt.ylabel("متوسط استهلاك الذاكرة (ميجابايت)")
plt.legend()
plt.grid()
plt.show()

# استنتاجات
print("\nاستنتاجات:")
print("1. الخوارزمية LCS باستخدام الاستدعاء الذاتي بدون تخزين تظهر أداء أبطأ بشكل ملحوظ مع زيادة الطول.")
print("2. استخدام التخزين (Memoization) يحسن الزمن بشكل كبير مقارنة بالخوارزمية الأساسية.")
print("3. البرمجة الديناميكية (DP) تُظهر أسرع أداء واستهلاك ذاكرة ثابت تقريبًا.")
